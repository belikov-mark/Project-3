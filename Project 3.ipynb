{
 "cells": [
  {
   "cell_type": "markdown",
   "id": "c24007a6",
   "metadata": {},
   "source": [
    "Mark Belikov 4/21/2024 "
   ]
  },
  {
   "cell_type": "markdown",
   "id": "36c6972e",
   "metadata": {},
   "source": [
    "How do reviews on app change users intention of downloading the app."
   ]
  },
  {
   "cell_type": "markdown",
   "id": "06deeed9",
   "metadata": {},
   "source": [
    "The problem is to find what makes a game or app have good reviews on the app store"
   ]
  },
  {
   "cell_type": "markdown",
   "id": "8d8ca193",
   "metadata": {},
   "source": [
    "Solution is to load dataset and clean it to see what factors contribute to an app getting good ratings. "
   ]
  },
  {
   "cell_type": "code",
   "execution_count": 1,
   "id": "171e8f75",
   "metadata": {},
   "outputs": [
    {
     "name": "stdout",
     "output_type": "stream",
     "text": [
      "Requirement already satisfied: textblob in c:\\users\\mark\\anaconda3\\lib\\site-packages (0.18.0.post0)\n",
      "Requirement already satisfied: nltk>=3.8 in c:\\users\\mark\\anaconda3\\lib\\site-packages (from textblob) (3.8.1)\n",
      "Requirement already satisfied: tqdm in c:\\users\\mark\\anaconda3\\lib\\site-packages (from nltk>=3.8->textblob) (4.64.0)\n",
      "Requirement already satisfied: click in c:\\users\\mark\\anaconda3\\lib\\site-packages (from nltk>=3.8->textblob) (8.0.4)\n",
      "Requirement already satisfied: regex>=2021.8.3 in c:\\users\\mark\\anaconda3\\lib\\site-packages (from nltk>=3.8->textblob) (2022.3.15)\n",
      "Requirement already satisfied: joblib in c:\\users\\mark\\anaconda3\\lib\\site-packages (from nltk>=3.8->textblob) (1.1.0)\n",
      "Requirement already satisfied: colorama in c:\\users\\mark\\anaconda3\\lib\\site-packages (from click->nltk>=3.8->textblob) (0.4.4)\n",
      "Requirement already satisfied: wordcloud in c:\\users\\mark\\anaconda3\\lib\\site-packages (1.9.3)\n",
      "Requirement already satisfied: matplotlib in c:\\users\\mark\\anaconda3\\lib\\site-packages (from wordcloud) (3.5.1)\n",
      "Requirement already satisfied: pillow in c:\\users\\mark\\anaconda3\\lib\\site-packages (from wordcloud) (9.0.1)\n",
      "Requirement already satisfied: numpy>=1.6.1 in c:\\users\\mark\\anaconda3\\lib\\site-packages (from wordcloud) (1.21.5)\n",
      "Requirement already satisfied: fonttools>=4.22.0 in c:\\users\\mark\\anaconda3\\lib\\site-packages (from matplotlib->wordcloud) (4.25.0)\n",
      "Requirement already satisfied: packaging>=20.0 in c:\\users\\mark\\anaconda3\\lib\\site-packages (from matplotlib->wordcloud) (21.3)\n",
      "Requirement already satisfied: pyparsing>=2.2.1 in c:\\users\\mark\\anaconda3\\lib\\site-packages (from matplotlib->wordcloud) (3.0.4)\n",
      "Requirement already satisfied: cycler>=0.10 in c:\\users\\mark\\anaconda3\\lib\\site-packages (from matplotlib->wordcloud) (0.11.0)\n",
      "Requirement already satisfied: python-dateutil>=2.7 in c:\\users\\mark\\anaconda3\\lib\\site-packages (from matplotlib->wordcloud) (2.8.2)\n",
      "Requirement already satisfied: kiwisolver>=1.0.1 in c:\\users\\mark\\anaconda3\\lib\\site-packages (from matplotlib->wordcloud) (1.3.2)\n",
      "Requirement already satisfied: six>=1.5 in c:\\users\\mark\\anaconda3\\lib\\site-packages (from python-dateutil>=2.7->matplotlib->wordcloud) (1.16.0)\n"
     ]
    }
   ],
   "source": [
    "!pip install textblob\n",
    "!pip install wordcloud\n",
    "import pandas as pd\n",
    "import nltk\n",
    "from textblob import TextBlob\n",
    "import matplotlib.pyplot as plt\n",
    "from wordcloud import WordCloud\n",
    "from urllib.parse import quote"
   ]
  },
  {
   "cell_type": "code",
   "execution_count": 2,
   "id": "8e554a7a",
   "metadata": {},
   "outputs": [
    {
     "name": "stdout",
     "output_type": "stream",
     "text": [
      "Requirement already satisfied: requests in c:\\users\\mark\\anaconda3\\lib\\site-packages (2.27.1)\n",
      "Requirement already satisfied: urllib3<1.27,>=1.21.1 in c:\\users\\mark\\anaconda3\\lib\\site-packages (from requests) (1.26.9)\n",
      "Requirement already satisfied: charset-normalizer~=2.0.0 in c:\\users\\mark\\anaconda3\\lib\\site-packages (from requests) (2.0.4)\n",
      "Requirement already satisfied: idna<4,>=2.5 in c:\\users\\mark\\anaconda3\\lib\\site-packages (from requests) (3.3)\n",
      "Requirement already satisfied: certifi>=2017.4.17 in c:\\users\\mark\\anaconda3\\lib\\site-packages (from requests) (2021.10.8)\n"
     ]
    }
   ],
   "source": [
    "!pip install requests\n",
    "import requests"
   ]
  },
  {
   "cell_type": "code",
   "execution_count": 3,
   "id": "9150a8d1",
   "metadata": {},
   "outputs": [],
   "source": [
    "api_key = \"6JiP6oz0qbzaGsYXl32MCnxiG9Jm7mES6nOtf0Lv6eEWNIB500PZ1Z92JhqWmGdsRCR1-bydOfXZw234UAIozBzTZw7pTcuS5uccF26BvRgij5pArgdeBiOMCaQmZnYx\""
   ]
  },
  {
   "cell_type": "code",
   "execution_count": 4,
   "id": "b9c4b5f3",
   "metadata": {},
   "outputs": [],
   "source": [
    "API_HOST = 'https://api.yelp.com'\n",
    "SEARCH_PATH = '/v3/businessess/search'\n",
    "BUSINESS_PATH = '/v3/businesses/'"
   ]
  },
  {
   "cell_type": "code",
   "execution_count": 5,
   "id": "9887caa1",
   "metadata": {},
   "outputs": [],
   "source": [
    "DEFAULT_TERM = 'software'\n",
    "DEFAULT_LOCATION = 'Jersey City, NJ'\n",
    "SEARCH_LIMIT = 20"
   ]
  },
  {
   "cell_type": "code",
   "execution_count": 6,
   "id": "14fda679",
   "metadata": {},
   "outputs": [],
   "source": [
    "def request(host, path, api_key, url_params=None):\n",
    "    url_params = url_params or {}\n",
    "    url = '{0}{1}'.format(host, quote(path.encode('utf8')))\n",
    "    headers = {\n",
    "        'Authorization': 'Bearer %s' % api_key\n",
    "    }\n",
    "    \n",
    "    print(u'Querying {0} ...'.format(url))\n",
    "    \n",
    "    response = requests.request('GET', url, headers=headers, params=url_params)\n",
    "    \n",
    "    return response.json()\n",
    "\n",
    "def search(api_key, term, location):\n",
    "    url_params = {\n",
    "        'term': term.replace(' ', '+'),\n",
    "        'location': location.replace(' ', '+'),\n",
    "        'limit': SEARCH_LIMIT\n",
    "    }\n",
    "    return request(API_HOST, SEARCH_PATH, api_key, url_params=url_params)\n",
    "\n",
    "def get_business(api_key, business_id):\n",
    "    business_path = BUSINESS_PATH + business_id\n",
    "    \n",
    "    return request(API_HOST, business_path, api_key)\n",
    "\n",
    "def query_api(term, location):\n",
    "    response = search(API_KEY, term, location)\n",
    "    \n",
    "    businesses = response.get('businesses')\n",
    "    \n",
    "    if not businesses:\n",
    "        print(u'No businesses for {0} in {1} found.'.format(term, location))\n",
    "        return\n",
    "    \n",
    "    business_id = businesses[0]['id']\n",
    "    \n",
    "    print(u'{0} businesses found, querying business infor ' \\\n",
    "          'for the top result \"{1}\" ...'.format(\n",
    "                len(businesses), business_id))\n",
    "    response = get_business(API_KEY, business_id)\n",
    "          \n",
    "    print(u'Result for business \"{0}\" found:'.format(business_id))\n",
    "    pprint.pprint(response, indent=2)"
   ]
  },
  {
   "cell_type": "code",
   "execution_count": 7,
   "id": "11fe39fb",
   "metadata": {},
   "outputs": [
    {
     "name": "stdout",
     "output_type": "stream",
     "text": [
      "Querying https://api.yelp.com/v3/businessess/search ...\n"
     ]
    }
   ],
   "source": [
    "response = search(api_key, DEFAULT_TERM, 'Jersey City, NJ')"
   ]
  },
  {
   "cell_type": "code",
   "execution_count": 8,
   "id": "276098bf",
   "metadata": {},
   "outputs": [
    {
     "data": {
      "text/plain": [
       "{'error': {'code': 'NOT_FOUND', 'description': 'Resource could not be found.'}}"
      ]
     },
     "execution_count": 8,
     "metadata": {},
     "output_type": "execute_result"
    }
   ],
   "source": [
    "response"
   ]
  },
  {
   "cell_type": "code",
   "execution_count": null,
   "id": "e8f4bc03",
   "metadata": {},
   "outputs": [],
   "source": [
    "for business in response['businesses']:\n",
    "    print(response)\n",
    "    print('Business Name: ' + business['name'])\n",
    "    print('Rating: ' + str(business['rating']))\n",
    "    print('Review Count: ' + str(business['review_count']))\n",
    "    print('Reviews: ')\n",
    "    BUS_REVIEW='/v3/businesses/{}/reviews'.format(business['id'])\n",
    "    \n",
    "    reviews = request(API_HOST,BUS_REVIEW, API_KEY)\n",
    "    for review in reviews['reviews']:\n",
    "        print(' - ' + review['text'])\n",
    "        \n",
    "        blob = TextBlob(review['text'])\n",
    "        sentiment = blob.sentiment.polarity\n",
    "        if sentiment > 0:\n",
    "            print('  Sentiment: Positive')\n",
    "        elif sentiment < 0:\n",
    "            print('  Sentiment: Negative')\n",
    "        else:\n",
    "            print(' Sentminet: Neutral')"
   ]
  }
 ],
 "metadata": {
  "kernelspec": {
   "display_name": "Python 3 (ipykernel)",
   "language": "python",
   "name": "python3"
  },
  "language_info": {
   "codemirror_mode": {
    "name": "ipython",
    "version": 3
   },
   "file_extension": ".py",
   "mimetype": "text/x-python",
   "name": "python",
   "nbconvert_exporter": "python",
   "pygments_lexer": "ipython3",
   "version": "3.9.12"
  }
 },
 "nbformat": 4,
 "nbformat_minor": 5
}
